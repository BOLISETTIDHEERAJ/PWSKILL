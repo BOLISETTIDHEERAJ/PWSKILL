{
 "cells": [
  {
   "cell_type": "markdown",
   "id": "ba63c842",
   "metadata": {},
   "source": [
    "Q1. What are the three measures of central tendency? \n",
    "Sol: Mean,Median and Mode"
   ]
  },
  {
   "cell_type": "markdown",
   "id": "13b6e081",
   "metadata": {},
   "source": [
    "Q2. What is the difference between the mean, median, and mode? How are they used to measure the\n",
    "central tendency of a dataset?"
   ]
  },
  {
   "cell_type": "code",
   "execution_count": 15,
   "id": "0a8642b5",
   "metadata": {},
   "outputs": [],
   "source": [
    "#Sol: Mean is the average, median is the midlle number in set of number(Ordered Number), mode is the highest frequency of numbers.\n",
    "import seaborn as sns\n",
    "df=sns.load_dataset('tips')"
   ]
  },
  {
   "cell_type": "code",
   "execution_count": 20,
   "id": "a7ecb238",
   "metadata": {},
   "outputs": [
    {
     "name": "stderr",
     "output_type": "stream",
     "text": [
      "C:\\Users\\Rapido\\AppData\\Local\\Temp\\ipykernel_5880\\3698961737.py:1: FutureWarning: The default value of numeric_only in DataFrame.mean is deprecated. In a future version, it will default to False. In addition, specifying 'numeric_only=None' is deprecated. Select only valid columns or specify the value of numeric_only to silence this warning.\n",
      "  df.mean()\n"
     ]
    },
    {
     "data": {
      "text/plain": [
       "total_bill    19.785943\n",
       "tip            2.998279\n",
       "size           2.569672\n",
       "dtype: float64"
      ]
     },
     "execution_count": 20,
     "metadata": {},
     "output_type": "execute_result"
    }
   ],
   "source": [
    "df.mean()"
   ]
  },
  {
   "cell_type": "code",
   "execution_count": 30,
   "id": "05be0219",
   "metadata": {},
   "outputs": [
    {
     "data": {
      "text/plain": [
       "17.795"
      ]
     },
     "execution_count": 30,
     "metadata": {},
     "output_type": "execute_result"
    }
   ],
   "source": [
    "np.median(df['total_bill'])"
   ]
  },
  {
   "cell_type": "code",
   "execution_count": 34,
   "id": "4c520a49",
   "metadata": {},
   "outputs": [],
   "source": [
    "import numpy as np\n",
    "from scipy import stats"
   ]
  },
  {
   "cell_type": "code",
   "execution_count": 32,
   "id": "cfe100fa",
   "metadata": {},
   "outputs": [
    {
     "name": "stdout",
     "output_type": "stream",
     "text": [
      "Collecting scipyNote: you may need to restart the kernel to use updated packages.\n",
      "\n",
      "  Downloading scipy-1.10.1-cp311-cp311-win_amd64.whl (42.2 MB)\n",
      "     ---------------------------------------- 42.2/42.2 MB 3.7 MB/s eta 0:00:00\n",
      "Requirement already satisfied: numpy<1.27.0,>=1.19.5 in c:\\users\\rapido\\appdata\\local\\programs\\python\\python311\\lib\\site-packages (from scipy) (1.24.1)\n",
      "Installing collected packages: scipy\n",
      "Successfully installed scipy-1.10.1\n"
     ]
    },
    {
     "name": "stderr",
     "output_type": "stream",
     "text": [
      "\n",
      "[notice] A new release of pip available: 22.3.1 -> 23.0.1\n",
      "[notice] To update, run: python.exe -m pip install --upgrade pip\n"
     ]
    }
   ],
   "source": [
    "pip install scipy"
   ]
  },
  {
   "cell_type": "code",
   "execution_count": 35,
   "id": "5b8a15d5",
   "metadata": {},
   "outputs": [
    {
     "name": "stderr",
     "output_type": "stream",
     "text": [
      "C:\\Users\\Rapido\\AppData\\Local\\Temp\\ipykernel_5880\\932912092.py:1: FutureWarning: Unlike other reduction functions (e.g. `skew`, `kurtosis`), the default behavior of `mode` typically preserves the axis it acts along. In SciPy 1.11.0, this behavior will change: the default value of `keepdims` will become False, the `axis` over which the statistic is taken will be eliminated, and the value None will no longer be accepted. Set `keepdims` to True or False to avoid this warning.\n",
      "  stats.mode(df['total_bill'])\n"
     ]
    },
    {
     "data": {
      "text/plain": [
       "ModeResult(mode=array([13.42]), count=array([3]))"
      ]
     },
     "execution_count": 35,
     "metadata": {},
     "output_type": "execute_result"
    }
   ],
   "source": [
    "stats.mode(df['total_bill'])"
   ]
  },
  {
   "cell_type": "markdown",
   "id": "2ad57cf3",
   "metadata": {},
   "source": [
    "Q3. Measure the three measures of central tendency for the given height data:\n",
    "\n",
    " [178,177,176,177,178.2,178,175,179,180,175,178.9,176.2,177,172.5,178,176.5]"
   ]
  },
  {
   "cell_type": "code",
   "execution_count": 36,
   "id": "55397cf0",
   "metadata": {},
   "outputs": [],
   "source": [
    "array=[178,177,176,177,178.2,178,175,179,180,175,178.9,176.2,177,172.5,178,176.5]"
   ]
  },
  {
   "cell_type": "code",
   "execution_count": 38,
   "id": "345812b7",
   "metadata": {},
   "outputs": [
    {
     "data": {
      "text/plain": [
       "177.01875"
      ]
     },
     "execution_count": 38,
     "metadata": {},
     "output_type": "execute_result"
    }
   ],
   "source": [
    "np.mean(array)"
   ]
  },
  {
   "cell_type": "code",
   "execution_count": 39,
   "id": "4cfe982e",
   "metadata": {},
   "outputs": [
    {
     "data": {
      "text/plain": [
       "177.0"
      ]
     },
     "execution_count": 39,
     "metadata": {},
     "output_type": "execute_result"
    }
   ],
   "source": [
    "np.median(array)"
   ]
  },
  {
   "cell_type": "code",
   "execution_count": 40,
   "id": "24e9edea",
   "metadata": {},
   "outputs": [
    {
     "name": "stderr",
     "output_type": "stream",
     "text": [
      "C:\\Users\\Rapido\\AppData\\Local\\Temp\\ipykernel_5880\\4158488517.py:1: FutureWarning: Unlike other reduction functions (e.g. `skew`, `kurtosis`), the default behavior of `mode` typically preserves the axis it acts along. In SciPy 1.11.0, this behavior will change: the default value of `keepdims` will become False, the `axis` over which the statistic is taken will be eliminated, and the value None will no longer be accepted. Set `keepdims` to True or False to avoid this warning.\n",
      "  stats.mode(array)\n"
     ]
    },
    {
     "data": {
      "text/plain": [
       "ModeResult(mode=array([177.]), count=array([3]))"
      ]
     },
     "execution_count": 40,
     "metadata": {},
     "output_type": "execute_result"
    }
   ],
   "source": [
    "stats.mode(array)"
   ]
  },
  {
   "cell_type": "markdown",
   "id": "22ae532c",
   "metadata": {},
   "source": [
    "Q4. Find the standard deviation for the given data:\n",
    "\n",
    "[178,177,176,177,178.2,178,175,179,180,175,178.9,176.2,177,172.5,178,176.5]\n",
    "\n"
   ]
  },
  {
   "cell_type": "code",
   "execution_count": 43,
   "id": "a2d8ac94",
   "metadata": {},
   "outputs": [
    {
     "data": {
      "text/plain": [
       "1.7885814036548633"
      ]
     },
     "execution_count": 43,
     "metadata": {},
     "output_type": "execute_result"
    }
   ],
   "source": [
    "array\n",
    "np.std(array)"
   ]
  },
  {
   "cell_type": "markdown",
   "id": "4faef9ba",
   "metadata": {},
   "source": [
    "Q5. How are measures of dispersion such as range, variance, and standard deviation used to describe\n",
    "the spread of a dataset? Provide an example."
   ]
  },
  {
   "cell_type": "markdown",
   "id": "92451920",
   "metadata": {},
   "source": [
    "Range: the difference between the highest and lowest values\n",
    "Interquartile range: the range of the middle half of a distribution\n",
    "Standard deviation: average distance from the mean\n",
    "Variance: average of squared distances from the mean"
   ]
  },
  {
   "cell_type": "markdown",
   "id": "73963779",
   "metadata": {},
   "source": [
    "Q6. What is a Venn diagram?\n",
    "Sol: A Venn diagram is a widely used diagram style that shows the logical relation between sets"
   ]
  },
  {
   "cell_type": "markdown",
   "id": "affedd9f",
   "metadata": {},
   "source": [
    "Q7. For the two given sets A = (2,3,4,5,6,7) & B = (0,2,6,8,10). Find:\n",
    "\n",
    "(i) \tA B\n",
    "\n",
    "(ii)\tA ⋃ B"
   ]
  },
  {
   "cell_type": "code",
   "execution_count": 60,
   "id": "546e879f",
   "metadata": {},
   "outputs": [],
   "source": [
    "A = {2,3,4,5,6,7}\n",
    "B = {0,2,6,8,10}"
   ]
  },
  {
   "cell_type": "code",
   "execution_count": 62,
   "id": "5cf0b5ea",
   "metadata": {},
   "outputs": [
    {
     "data": {
      "text/plain": [
       "{0, 2, 3, 4, 5, 6, 7, 8, 10}"
      ]
     },
     "execution_count": 62,
     "metadata": {},
     "output_type": "execute_result"
    }
   ],
   "source": [
    "Union=A.union(B)\n",
    "Union"
   ]
  },
  {
   "cell_type": "code",
   "execution_count": 65,
   "id": "d4db044e",
   "metadata": {},
   "outputs": [
    {
     "data": {
      "text/plain": [
       "{2, 6}"
      ]
     },
     "execution_count": 65,
     "metadata": {},
     "output_type": "execute_result"
    }
   ],
   "source": [
    "Intersection = A.intersection(B)\n",
    "Intersection"
   ]
  },
  {
   "cell_type": "markdown",
   "id": "c0567c72",
   "metadata": {},
   "source": [
    "Q8. What do you understand about skewness in data?\n",
    "Sol: Skewness is a measurement of the distortion of symmetrical distribution or asymmetry in a data set. Skewness is demonstrated on a bell curve when data points are not distributed symmetrically to the left and right sides of the median on a bell curve."
   ]
  },
  {
   "cell_type": "markdown",
   "id": "953423c3",
   "metadata": {},
   "source": [
    "Q9. If a data is right skewed then what will be the position of median with respect to mean?\n",
    "Sol: median<mean<mode\n",
    "If a data is right skewed, the median will be less than the mean. This is because the right skewness means that the tail of the distribution is longer on the right side, which pulls the mean towards the right side of the distribution."
   ]
  },
  {
   "cell_type": "markdown",
   "id": "b0a2792f",
   "metadata": {},
   "source": [
    "Q10\n",
    "Sol: Covariance measures the degree of linear association between two variables, while correlation measures both the strength and direction of the linear relationship between two variables. In other words, covariance indicates how two variables are related to each other, while correlation indicates how strong and in what direction the relationship is. Covariance is used to assess the relationship between two variables in a population, while correlation is used to assess the relationship between two variables in a sample."
   ]
  },
  {
   "cell_type": "markdown",
   "id": "5959df35",
   "metadata": {},
   "source": [
    "Q11 sOL: Example hase been provided in q2 "
   ]
  },
  {
   "cell_type": "markdown",
   "id": "37b9bb73",
   "metadata": {},
   "source": [
    "Q12. Sol.For a normal distribution, the mean, median, and mode are all equal. This means that they are all measures of central tendency that indicate the same value in a normal distribution."
   ]
  },
  {
   "cell_type": "markdown",
   "id": "ba77d563",
   "metadata": {},
   "source": [
    "Q13. Covariance measures the degree of linear association between two variables, while correlation measures both the strength and direction of the linear relationship between two variables. Covariance can be positive or negative, depending on whether the variables are positively or negatively related, while correlation ranges from -1 to +1, where -1 indicates a perfect negative relationship, 0 indicates no relationship, and +1 indicates a perfect positive relationship.\n",
    "\n",
    "Q14. Outliers can have a significant impact on measures of central tendency and dispersion. For example, if there is an outlier in a dataset with a high value, the mean will be pulled towards that value, making it an inaccurate representation of the central tendency of the data. Similarly, outliers can affect measures of dispersion, such as the range and standard deviation, by making them appear larger or smaller than they actually are. For instance, if a dataset contains an outlier with an extremely large value, the range will be larger than it should be, and the standard deviation will be greater than it should be. An example of this is if a class of students has scores of 80, 85, 90, 95, and 200, the outlier score of 200 will affect both the mean and the range of the data."
   ]
  },
  {
   "cell_type": "code",
   "execution_count": null,
   "id": "71657a80",
   "metadata": {},
   "outputs": [],
   "source": []
  }
 ],
 "metadata": {
  "kernelspec": {
   "display_name": "Python 3 (ipykernel)",
   "language": "python",
   "name": "python3"
  },
  "language_info": {
   "codemirror_mode": {
    "name": "ipython",
    "version": 3
   },
   "file_extension": ".py",
   "mimetype": "text/x-python",
   "name": "python",
   "nbconvert_exporter": "python",
   "pygments_lexer": "ipython3",
   "version": "3.11.1"
  }
 },
 "nbformat": 4,
 "nbformat_minor": 5
}
