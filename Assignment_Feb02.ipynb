{
 "cells": [
  {
   "cell_type": "markdown",
   "id": "46270433",
   "metadata": {},
   "source": [
    "### Q1. Explain with an example each when to use a for loop and a while loop."
   ]
  },
  {
   "cell_type": "markdown",
   "id": "6dbda8de",
   "metadata": {},
   "source": [
    "Ans) In Python, there are two kinds of loop structures:\n",
    "for: Iterate a predefined number of times. This is also known as a definite iteration\n",
    "while: Keep on iterating until the condition is false. This is known as an indefinite iteration"
   ]
  },
  {
   "cell_type": "code",
   "execution_count": 2,
   "id": "c44c0e66",
   "metadata": {},
   "outputs": [
    {
     "name": "stdout",
     "output_type": "stream",
     "text": [
      "apple\n",
      "banana\n",
      "cherry\n"
     ]
    }
   ],
   "source": [
    "#For Loop\n",
    "fruits = [\"apple\", \"banana\", \"cherry\"]\n",
    "for x in fruits:\n",
    "  print(x)"
   ]
  },
  {
   "cell_type": "code",
   "execution_count": 1,
   "id": "adc18f79",
   "metadata": {},
   "outputs": [
    {
     "name": "stdout",
     "output_type": "stream",
     "text": [
      "1\n",
      "2\n",
      "3\n",
      "4\n",
      "5\n"
     ]
    }
   ],
   "source": [
    "#While Loop\n",
    "i = 1\n",
    "while i < 6:\n",
    "  print(i)\n",
    "  i += 1"
   ]
  },
  {
   "cell_type": "markdown",
   "id": "8fd4299d",
   "metadata": {},
   "source": [
    "### Q2. Write a python program to print the sum and product of the first 10 natural numbers using for and while loop."
   ]
  },
  {
   "cell_type": "code",
   "execution_count": 7,
   "id": "17825ed0",
   "metadata": {},
   "outputs": [
    {
     "name": "stdout",
     "output_type": "stream",
     "text": [
      "55\n",
      "3628800\n"
     ]
    }
   ],
   "source": [
    "add=0\n",
    "mul=1\n",
    "for i in range(1,11):\n",
    "    add+=i\n",
    "    mul*=i\n",
    "print(add)\n",
    "print(mul)"
   ]
  },
  {
   "cell_type": "markdown",
   "id": "aebabd04",
   "metadata": {},
   "source": [
    "### Q3. Create a python program to compute the electricity bill for a household.\n",
    "The per-unit charges in rupees are as follows: For the first 100 units, the user will be charged Rs. 4.5 per\n",
    "unit, for the next 100 units, the user will be charged Rs. 6 per unit, and for the next 100 units, the user will\n",
    "be charged Rs. 10 per unit, After 300 units and above the user will be charged Rs. 20 per unit.\n",
    "You are required to take the units of electricity consumed in a month from the user as input.\n",
    "Your program must pass this test case: when the unit of electricity consumed by the user in a month is\n",
    "310, the total electricity bill should be 2250."
   ]
  },
  {
   "cell_type": "code",
   "execution_count": 14,
   "id": "57f45d8f",
   "metadata": {},
   "outputs": [
    {
     "name": "stdout",
     "output_type": "stream",
     "text": [
      "310\n",
      "2250.0\n"
     ]
    }
   ],
   "source": [
    "amount=0\n",
    "unit=int(input())\n",
    "if(unit<=100):\n",
    "    amount= 4.5*unit\n",
    "elif(100<unit<=200):\n",
    "    amount = 100*4.5\n",
    "    amount=amount+(unit-100)*6\n",
    "elif(200<unit<=300):\n",
    "    amount= 100*4.5+ 100*6\n",
    "    amount=amount+(unit-200)*10\n",
    "elif(unit>300):\n",
    "    amount= 100*4.5+ 100*6+100*10\n",
    "    amount=amount+(unit-300)*20\n",
    "    \n",
    "print(amount)"
   ]
  },
  {
   "cell_type": "markdown",
   "id": "431f7bc6",
   "metadata": {},
   "source": [
    "### Q4. Create a list of numbers from 1 to 100. Use for loop and while loop to calculate the cube of each number and if the cube of that number is divisible by 4 or 5 then append that number in a list and printthat list."
   ]
  },
  {
   "cell_type": "code",
   "execution_count": 25,
   "id": "9c083733",
   "metadata": {},
   "outputs": [
    {
     "name": "stdout",
     "output_type": "stream",
     "text": [
      "[2, 4, 5, 6, 8, 10, 12, 14, 15, 16, 18, 20, 22, 24, 25, 26, 28, 30, 32, 34, 35, 36, 38, 40, 42, 44, 45, 46, 48, 50, 52, 54, 55, 56, 58, 60, 62, 64, 65, 66, 68, 70, 72, 74, 75, 76, 78, 80, 82, 84, 85, 86, 88, 90, 92, 94, 95, 96, 98, 100]\n"
     ]
    }
   ],
   "source": [
    "arr=[]\n",
    "for i in range(1,101):\n",
    "    num=i*i*i\n",
    "    if((num%4==0) or (num%5==0)):\n",
    "        arr.append(i)\n",
    "print(arr)\n"
   ]
  },
  {
   "cell_type": "code",
   "execution_count": 37,
   "id": "bcecef99",
   "metadata": {},
   "outputs": [
    {
     "name": "stdout",
     "output_type": "stream",
     "text": [
      "[2, 4, 5, 6, 8, 10, 12, 14, 15, 16, 18, 20, 22, 24, 25, 26, 28, 30, 32, 34, 35, 36, 38, 40, 42, 44, 45, 46, 48, 50, 52, 54, 55, 56, 58, 60, 62, 64, 65, 66, 68, 70, 72, 74, 75, 76, 78, 80, 82, 84, 85, 86, 88, 90, 92, 94, 95, 96, 98, 100]\n"
     ]
    }
   ],
   "source": [
    "arr=[]\n",
    "i=1\n",
    "while(i!=101):\n",
    "    num=i*i*i\n",
    "    if((num%4==0) or (num%5==0)):\n",
    "        arr.append(i)\n",
    "    i+=1\n",
    "print(arr)\n"
   ]
  },
  {
   "cell_type": "markdown",
   "id": "a7ab38bb",
   "metadata": {},
   "source": [
    "### Q5. Write a program to filter count vowels in the below-given string. string = \"I want to become a data scientist\""
   ]
  },
  {
   "cell_type": "code",
   "execution_count": 32,
   "id": "c192829b",
   "metadata": {},
   "outputs": [
    {
     "data": {
      "text/plain": [
       "12"
      ]
     },
     "execution_count": 32,
     "metadata": {},
     "output_type": "execute_result"
    }
   ],
   "source": [
    "word = \"I want to become a data scientist\"\n",
    "word=word.lower()\n",
    "count=0\n",
    "for i in word:\n",
    "    if i in ['a','e','i','o','u']:\n",
    "        count+=1\n",
    "count"
   ]
  },
  {
   "cell_type": "code",
   "execution_count": null,
   "id": "844abb3a",
   "metadata": {},
   "outputs": [],
   "source": []
  }
 ],
 "metadata": {
  "kernelspec": {
   "display_name": "Python 3 (ipykernel)",
   "language": "python",
   "name": "python3"
  },
  "language_info": {
   "codemirror_mode": {
    "name": "ipython",
    "version": 3
   },
   "file_extension": ".py",
   "mimetype": "text/x-python",
   "name": "python",
   "nbconvert_exporter": "python",
   "pygments_lexer": "ipython3",
   "version": "3.11.1"
  }
 },
 "nbformat": 4,
 "nbformat_minor": 5
}
